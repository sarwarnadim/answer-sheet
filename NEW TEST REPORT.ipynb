{
 "cells": [
  {
   "cell_type": "markdown",
   "id": "f3a2f703",
   "metadata": {},
   "source": [
    "question and answer for todays class--"
   ]
  },
  {
   "cell_type": "code",
   "execution_count": 21,
   "id": "f6f61379",
   "metadata": {},
   "outputs": [],
   "source": [
    "s=\"this is My First Python programming class and i am learning python string and its function\""
   ]
  },
  {
   "cell_type": "markdown",
   "id": "3f13f30c",
   "metadata": {},
   "source": [
    "# Question 1 :- Try to extract data from index one to index 300 with a jump of 3 "
   ]
  },
  {
   "cell_type": "code",
   "execution_count": 3,
   "id": "019a89c9",
   "metadata": {},
   "outputs": [
    {
     "data": {
      "text/plain": [
       "'h   r tnrrmglsnimeNGyosi dtfco'"
      ]
     },
     "execution_count": 3,
     "metadata": {},
     "output_type": "execute_result"
    }
   ],
   "source": [
    "s[1:300:3]"
   ]
  },
  {
   "cell_type": "markdown",
   "id": "558081ed",
   "metadata": {},
   "source": [
    "# question2. Try to reverse a string without using reverse function "
   ]
  },
  {
   "cell_type": "code",
   "execution_count": 6,
   "id": "429c2782",
   "metadata": {},
   "outputs": [
    {
     "data": {
      "text/plain": [
       "'noitcnuf sti dna gnirts nohtyp GNINrael ma i dna ssalc gnimmargorp nohtyP tsriF yM si siht'"
      ]
     },
     "execution_count": 6,
     "metadata": {},
     "output_type": "execute_result"
    }
   ],
   "source": [
    "\"\".join(reversed(\"this is My First Python programming class and i am learNING python string and its function\"))"
   ]
  },
  {
   "cell_type": "markdown",
   "id": "224d79f7",
   "metadata": {},
   "source": [
    "# Question3. Try to split a string after conversion of entire string in uppercase "
   ]
  },
  {
   "cell_type": "code",
   "execution_count": 7,
   "id": "4037d7b8",
   "metadata": {},
   "outputs": [
    {
     "data": {
      "text/plain": [
       "'THIS IS MY FIRST PYTHON PROGRAMMING CLASS AND I AM LEARNING PYTHON STRING AND ITS FUNCTION'"
      ]
     },
     "execution_count": 7,
     "metadata": {},
     "output_type": "execute_result"
    }
   ],
   "source": [
    "s.upper()"
   ]
  },
  {
   "cell_type": "code",
   "execution_count": 10,
   "id": "1272cbfe",
   "metadata": {},
   "outputs": [
    {
     "data": {
      "text/plain": [
       "['this is My First Python ',\n",
       " 'rogramming class and i am learNING ',\n",
       " 'ython string and its function']"
      ]
     },
     "execution_count": 10,
     "metadata": {},
     "output_type": "execute_result"
    }
   ],
   "source": [
    "s.split('p')"
   ]
  },
  {
   "cell_type": "markdown",
   "id": "fb599c01",
   "metadata": {},
   "source": [
    "# question 4. try to convert the whole string into lower case "
   ]
  },
  {
   "cell_type": "code",
   "execution_count": 11,
   "id": "261c1772",
   "metadata": {},
   "outputs": [
    {
     "data": {
      "text/plain": [
       "'this is my first python programming class and i am learning python string and its function'"
      ]
     },
     "execution_count": 11,
     "metadata": {},
     "output_type": "execute_result"
    }
   ],
   "source": [
    "s.lower()"
   ]
  },
  {
   "cell_type": "markdown",
   "id": "4d45e7c6",
   "metadata": {},
   "source": [
    "# question 5 . Try to capitalize the whole string "
   ]
  },
  {
   "cell_type": "code",
   "execution_count": 18,
   "id": "78bc5931",
   "metadata": {},
   "outputs": [
    {
     "data": {
      "text/plain": [
       "'This is my first python programming class and i am learning python string and its function'"
      ]
     },
     "execution_count": 18,
     "metadata": {},
     "output_type": "execute_result"
    }
   ],
   "source": [
    "s.capitalize()"
   ]
  },
  {
   "cell_type": "markdown",
   "id": "019d92c3",
   "metadata": {},
   "source": [
    "# question 6.Write a diference between isalnum() and isalpha()"
   ]
  },
  {
   "cell_type": "markdown",
   "id": "f5c4d6c1",
   "metadata": {},
   "source": [
    "diffrence bitween isalpha() and isalnum is isalpha indicate alphabetical letters and isalnum indicate alphabetical and numerical letter both ."
   ]
  },
  {
   "cell_type": "markdown",
   "id": "4bea541f",
   "metadata": {},
   "source": [
    "# question 7. Try to give an example of expand tab"
   ]
  },
  {
   "cell_type": "code",
   "execution_count": 27,
   "id": "075bf12e",
   "metadata": {},
   "outputs": [],
   "source": [
    "s1=s='sudhanshu\\tkumar\\tineuron'"
   ]
  },
  {
   "cell_type": "code",
   "execution_count": 29,
   "id": "e4f0050d",
   "metadata": {},
   "outputs": [
    {
     "data": {
      "text/plain": [
       "'sudhanshu       kumar   ineuron'"
      ]
     },
     "execution_count": 29,
     "metadata": {},
     "output_type": "execute_result"
    }
   ],
   "source": [
    "s1.expandtabs()"
   ]
  },
  {
   "cell_type": "markdown",
   "id": "145c0f5c",
   "metadata": {},
   "source": [
    "# question 8 . Give an example of strip , lstrip and rstrip "
   ]
  },
  {
   "cell_type": "code",
   "execution_count": 40,
   "id": "968e359a",
   "metadata": {},
   "outputs": [],
   "source": [
    "s2=\"   nadim sarwar    ansari    \""
   ]
  },
  {
   "cell_type": "code",
   "execution_count": 41,
   "id": "fc2a131b",
   "metadata": {},
   "outputs": [
    {
     "data": {
      "text/plain": [
       "'nadim sarwar    ansari'"
      ]
     },
     "execution_count": 41,
     "metadata": {},
     "output_type": "execute_result"
    }
   ],
   "source": [
    "s2.strip()"
   ]
  },
  {
   "cell_type": "code",
   "execution_count": 42,
   "id": "d7be4363",
   "metadata": {},
   "outputs": [
    {
     "data": {
      "text/plain": [
       "'nadim sarwar    ansari    '"
      ]
     },
     "execution_count": 42,
     "metadata": {},
     "output_type": "execute_result"
    }
   ],
   "source": [
    "s2.lstrip()"
   ]
  },
  {
   "cell_type": "code",
   "execution_count": 43,
   "id": "63e3e0fe",
   "metadata": {},
   "outputs": [
    {
     "data": {
      "text/plain": [
       "'   nadim sarwar    ansari'"
      ]
     },
     "execution_count": 43,
     "metadata": {},
     "output_type": "execute_result"
    }
   ],
   "source": [
    "s2.rstrip()"
   ]
  },
  {
   "cell_type": "markdown",
   "id": "088b2931",
   "metadata": {},
   "source": [
    "Note :-bassically strip remove all types of space  between words ...R indicate right and L indicate left ."
   ]
  },
  {
   "cell_type": "code",
   "execution_count": null,
   "id": "68578d48",
   "metadata": {},
   "outputs": [],
   "source": []
  },
  {
   "cell_type": "markdown",
   "id": "f9d8798e",
   "metadata": {},
   "source": [
    "# question 9.  Replace a string charecter by another charector by taking your own example \n",
    "\n"
   ]
  },
  {
   "cell_type": "code",
   "execution_count": 46,
   "id": "80d492af",
   "metadata": {},
   "outputs": [],
   "source": [
    "s3=\"\"\"India, officially the Republic of India (Hindi: Bhārat Gaṇarājya),[26] is a country in South Asia. It is the seventh-largest country by area, the second-most populous country, and the most populous democracy in the world. Bounded by the Indian Ocean on the south, the Arabian Sea on the southwest, and the Bay of Bengal on the southeast, it shares land borders with Pakistan to the west;[f] China, Nepal, and Bhutan to the north; and Bangladesh and Myanmar to the east. In the Indian Ocean, India is in the vicinity of Sri Lanka and the Maldives; its Andaman and Nicobar Islands share a maritime border with Thailand, Myanmar and Indonesia.\n",
    "\n",
    "Modern humans arrived on the Indian subcontinent from Africa no later than 55,000 years ago.[27][28][29] Their long occupation, initially in varying forms of isolation as hunter-gatherers, has made the region highly diverse, second only to Africa in human genetic diversity.[30] Settled life emerged on the subcontinent in the western margins of the Indus river basin 9,000 years ago, evolving gradually into the Indus Valley Civilisation of the third millennium BCE.[31] By 1200 BCE, an archaic form of Sanskrit, an Indo-European language, had diffused into India from the northwest,[32][33] unfolding as the language of the Rigveda, and recording the dawning of Hinduism in India.[34] The Dravidian languages of India were supplanted in the northern and western regions.[35] By 400 BCE, stratification and exclusion by caste had emerged within Hinduism,[36] and Buddhism and Jainism had arisen, proclaiming social orders unlinked to heredity.[37] Early political consolidations gave rise to the loose-knit Maurya and Gupta Empires based in the Ganges Basin.[38] Their collective era was suffused with wide-ranging creativity,[39] but also marked by the declining status of women,[40] and the incorporation of untouchability into an organised system of belief.[g][41] In South India, the Middle kingdoms exported Dravidian-languages scripts and religious cultures to the kingdoms of Southeast Asia.\"\"\""
   ]
  },
  {
   "cell_type": "code",
   "execution_count": 53,
   "id": "ffca80f4",
   "metadata": {},
   "outputs": [
    {
     "data": {
      "text/plain": [
       "'Bharat, officially the Republic of Bharat (Hindi: Bhārat Gaṇarājya),[26] is a country in South Asia. It is the seventh-largest country by area, the second-most populous country, and the most populous democracy in the world. Bounded by the Bharatn Ocean on the south, the Arabian Sea on the southwest, and the Bay of Bengal on the southeast, it shares land borders with Pakistan to the west;[f] China, Nepal, and Bhutan to the north; and Bangladesh and Myanmar to the east. In the Bharatn Ocean, Bharat is in the vicinity of Sri Lanka and the Maldives; its Andaman and Nicobar Islands share a maritime border with Thailand, Myanmar and Indonesia.\\n\\nModern humans arrived on the Bharatn subcontinent from Africa no later than 55,000 years ago.[27][28][29] Their long occupation, initially in varying forms of isolation as hunter-gatherers, has made the region highly diverse, second only to Africa in human genetic diversity.[30] Settled life emerged on the subcontinent in the western margins of the Indus river basin 9,000 years ago, evolving gradually into the Indus Valley Civilisation of the third millennium BCE.[31] By 1200 BCE, an archaic form of Sanskrit, an Indo-European language, had diffused into Bharat from the northwest,[32][33] unfolding as the language of the Rigveda, and recording the dawning of Hinduism in Bharat.[34] The Dravidian languages of Bharat were supplanted in the northern and western regions.[35] By 400 BCE, stratification and exclusion by caste had emerged within Hinduism,[36] and Buddhism and Jainism had arisen, proclaiming social orders unlinked to heredity.[37] Early political consolidations gave rise to the loose-knit Maurya and Gupta Empires based in the Ganges Basin.[38] Their collective era was suffused with wide-ranging creativity,[39] but also marked by the declining status of women,[40] and the incorporation of untouchability into an organised system of belief.[g][41] In South Bharat, the Middle kingdoms exported Dravidian-languages scripts and religious cultures to the kingdoms of Southeast Asia.'"
      ]
     },
     "execution_count": 53,
     "metadata": {},
     "output_type": "execute_result"
    }
   ],
   "source": [
    "s3.replace('India','Bharat')"
   ]
  },
  {
   "cell_type": "markdown",
   "id": "732b6f32",
   "metadata": {},
   "source": [
    "# question 10 . Try  to give a defination of string center function with and exmple "
   ]
  },
  {
   "cell_type": "code",
   "execution_count": 2,
   "id": "406b5d6d",
   "metadata": {},
   "outputs": [],
   "source": [
    "ns = \"i am from jamshedpur\""
   ]
  },
  {
   "cell_type": "code",
   "execution_count": 3,
   "id": "c7d89055",
   "metadata": {},
   "outputs": [
    {
     "data": {
      "text/plain": [
       "'     i am from jamshedpur     '"
      ]
     },
     "execution_count": 3,
     "metadata": {},
     "output_type": "execute_result"
    }
   ],
   "source": [
    "ns.center(30)"
   ]
  },
  {
   "cell_type": "code",
   "execution_count": 8,
   "id": "5e336662",
   "metadata": {},
   "outputs": [
    {
     "data": {
      "text/plain": [
       "'#####i am from jamshedpur#####'"
      ]
     },
     "execution_count": 8,
     "metadata": {},
     "output_type": "execute_result"
    }
   ],
   "source": [
    "ns.center(30,'#')"
   ]
  },
  {
   "cell_type": "raw",
   "id": "937661f4",
   "metadata": {},
   "source": [
    "# string center bassically use the space between words and were we can directlly enter any word as specific point or with any special charector"
   ]
  },
  {
   "cell_type": "markdown",
   "id": "d7e28a4b",
   "metadata": {},
   "source": [
    "# Question 11 . Write your own definition of compiler and interpretor without copy paste form internet in your own language"
   ]
  },
  {
   "cell_type": "markdown",
   "id": "a45ad770",
   "metadata": {},
   "source": [
    "compiler and interpretor both do same work for programming .But with there own method .\n",
    "there is few point were we can defrenciate both thing one by one .\n",
    "1st\n",
    "compiler scan the entire programs first and translate it into machine code/Language onr the other side intrepretor scan the programe line by line and transalet it into machine language/code .\n",
    "2nd thing interpretor give error one by one at a single time and the compiler show all error and warn the user at same time and programm run .\n",
    "\n",
    "3rd \n",
    "debugging time is very slow in complier and other hand debugging in interpretor is fast as compare to compiler.\n",
    "\n",
    "4th complier takes less time in exicution than interpretor \n",
    "\n",
    "5th compiler is used by language like C C++ and interpretor is used by java,python etc .\n"
   ]
  },
  {
   "cell_type": "markdown",
   "id": "de38428f",
   "metadata": {},
   "source": [
    "# question 12 . Python is a interpreted of compiled language give a clear ans with your understanding "
   ]
  },
  {
   "cell_type": "raw",
   "id": "d266751a",
   "metadata": {},
   "source": [
    "# watched so many video on youtube but concept for both language is not clear till now ."
   ]
  },
  {
   "cell_type": "markdown",
   "id": "bbf86e58",
   "metadata": {},
   "source": [
    "# question 13 . Try to write a usec ase of python with your understanding ."
   ]
  },
  {
   "cell_type": "code",
   "execution_count": null,
   "id": "94c2c1d8",
   "metadata": {},
   "outputs": [],
   "source": [
    "Ans:- Python is bassically used for data analysis ,machine learning ,education purpose and web devlopement .\n",
    "    "
   ]
  },
  {
   "cell_type": "code",
   "execution_count": null,
   "id": "2b04d372",
   "metadata": {},
   "outputs": [],
   "source": []
  },
  {
   "cell_type": "code",
   "execution_count": null,
   "id": "52a0e6dd",
   "metadata": {},
   "outputs": [],
   "source": []
  },
  {
   "cell_type": "code",
   "execution_count": null,
   "id": "9adccd9d",
   "metadata": {},
   "outputs": [],
   "source": []
  },
  {
   "cell_type": "code",
   "execution_count": null,
   "id": "8f080862",
   "metadata": {},
   "outputs": [],
   "source": []
  },
  {
   "cell_type": "code",
   "execution_count": null,
   "id": "54d7f269",
   "metadata": {},
   "outputs": [],
   "source": []
  },
  {
   "cell_type": "code",
   "execution_count": null,
   "id": "1abcea70",
   "metadata": {},
   "outputs": [],
   "source": []
  },
  {
   "cell_type": "code",
   "execution_count": null,
   "id": "2dc4ec7f",
   "metadata": {},
   "outputs": [],
   "source": []
  }
 ],
 "metadata": {
  "kernelspec": {
   "display_name": "Python 3 (ipykernel)",
   "language": "python",
   "name": "python3"
  },
  "language_info": {
   "codemirror_mode": {
    "name": "ipython",
    "version": 3
   },
   "file_extension": ".py",
   "mimetype": "text/x-python",
   "name": "python",
   "nbconvert_exporter": "python",
   "pygments_lexer": "ipython3",
   "version": "3.9.7"
  }
 },
 "nbformat": 4,
 "nbformat_minor": 5
}
